{
 "cells": [
  {
   "cell_type": "code",
   "execution_count": 7,
   "metadata": {},
   "outputs": [],
   "source": [
    "import pandas as pd\n",
    "from tqdm import tqdm"
   ]
  },
  {
   "cell_type": "code",
   "execution_count": 4,
   "metadata": {},
   "outputs": [],
   "source": [
    "# preprocess json first\n",
    "from datasets import load_dataset"
   ]
  },
  {
   "cell_type": "code",
   "execution_count": 5,
   "metadata": {},
   "outputs": [
    {
     "name": "stderr",
     "output_type": "stream",
     "text": [
      "Downloading readme: 100%|██████████| 638/638 [00:00<00:00, 871kB/s]\n",
      "Downloading data: 100%|██████████| 157M/157M [00:09<00:00, 17.0MB/s] \n",
      "Generating train split: 100%|██████████| 50000/50000 [00:00<00:00, 50863.55 examples/s]\n"
     ]
    }
   ],
   "source": [
    "ds = load_dataset(\"dim/tldr_17_50k\")"
   ]
  },
  {
   "cell_type": "code",
   "execution_count": 10,
   "metadata": {},
   "outputs": [
    {
     "data": {
      "text/plain": [
       "DatasetDict({\n",
       "    train: Dataset({\n",
       "        features: ['author', 'body', 'normalizedBody', 'subreddit', 'subreddit_id', 'id', 'content', 'summary'],\n",
       "        num_rows: 50000\n",
       "    })\n",
       "})"
      ]
     },
     "execution_count": 10,
     "metadata": {},
     "output_type": "execute_result"
    }
   ],
   "source": [
    "ds"
   ]
  },
  {
   "cell_type": "code",
   "execution_count": 26,
   "metadata": {},
   "outputs": [
    {
     "name": "stdout",
     "output_type": "stream",
     "text": [
      "[(24, 'M'), (22, 'F'), (28, 'NB'), (19, 'NB')]\n"
     ]
    }
   ],
   "source": [
    "import re\n",
    "\n",
    "def parse_age_gender(text):\n",
    "    pattern = r'\\b(\\d{1,3})\\s*(M|F|NB)\\b'\n",
    "    result = re.findall(pattern, text, re.IGNORECASE)\n",
    "    result = [(int(age), gender) for age,gender in result if int(age) < 100 and int(age) > 10]\n",
    "    return result\n",
    "# Example usage:\n",
    "title = \"I (24M) entered my first relationship (22F). My friend (28NB) thinks it's normal. Another friend (19 NB) disagrees.\"\n",
    "\n",
    "result = parse_age_gender(title)\n",
    "print(result)"
   ]
  },
  {
   "cell_type": "code",
   "execution_count": 27,
   "metadata": {},
   "outputs": [
    {
     "name": "stderr",
     "output_type": "stream",
     "text": [
      "100%|██████████| 50000/50000 [00:08<00:00, 6046.04it/s]"
     ]
    },
    {
     "name": "stdout",
     "output_type": "stream",
     "text": [
      "3\n"
     ]
    },
    {
     "name": "stderr",
     "output_type": "stream",
     "text": [
      "\n"
     ]
    }
   ],
   "source": [
    "ds_with_gender = {\n",
    "    \"text\": [],\n",
    "    \"age\": [],\n",
    "    \"gender\": []\n",
    "}\n",
    "\n",
    "\n",
    "for i in tqdm(range(len(ds[\"train\"]))):\n",
    "    text = ds[\"train\"][i][\"normalizedBody\"]\n",
    "    \n",
    "\n",
    "    possible_age_gender = parse_age_gender(text)\n",
    "    \n",
    "    if possible_age_gender != []:\n",
    "        age = possible_age_gender[0][0]\n",
    "        gender = possible_age_gender[0][1]\n",
    "\n",
    "        ds_with_gender[\"text\"].append(text)\n",
    "        ds_with_gender[\"age\"].append(age)\n",
    "        ds_with_gender[\"gender\"].append(gender)\n",
    "\n",
    "print(len(ds_with_gender))\n"
   ]
  },
  {
   "cell_type": "code",
   "execution_count": 28,
   "metadata": {},
   "outputs": [],
   "source": [
    "df = pd.DataFrame(ds_with_gender)\n",
    "df[100:200].to_csv(\"./check_age_gender.csv\", index=False)"
   ]
  },
  {
   "cell_type": "code",
   "execution_count": 35,
   "metadata": {},
   "outputs": [
    {
     "name": "stdout",
     "output_type": "stream",
     "text": [
      "54.0\n"
     ]
    },
    {
     "data": {
      "text/html": [
       "<div>\n",
       "<style scoped>\n",
       "    .dataframe tbody tr th:only-of-type {\n",
       "        vertical-align: middle;\n",
       "    }\n",
       "\n",
       "    .dataframe tbody tr th {\n",
       "        vertical-align: top;\n",
       "    }\n",
       "\n",
       "    .dataframe thead th {\n",
       "        text-align: right;\n",
       "    }\n",
       "</style>\n",
       "<table border=\"1\" class=\"dataframe\">\n",
       "  <thead>\n",
       "    <tr style=\"text-align: right;\">\n",
       "      <th></th>\n",
       "      <th>text</th>\n",
       "      <th>age</th>\n",
       "      <th>gender</th>\n",
       "      <th>Correct</th>\n",
       "      <th>Unnamed: 4</th>\n",
       "    </tr>\n",
       "  </thead>\n",
       "  <tbody>\n",
       "    <tr>\n",
       "      <th>0</th>\n",
       "      <td>I'll call the person I'm interested in Jane [1...</td>\n",
       "      <td>16</td>\n",
       "      <td>F</td>\n",
       "      <td>False</td>\n",
       "      <td>0</td>\n",
       "    </tr>\n",
       "  </tbody>\n",
       "</table>\n",
       "</div>"
      ],
      "text/plain": [
       "                                                text  age gender  Correct  \\\n",
       "0  I'll call the person I'm interested in Jane [1...   16      F    False   \n",
       "\n",
       "  Unnamed: 4  \n",
       "0          0  "
      ]
     },
     "execution_count": 35,
     "metadata": {},
     "output_type": "execute_result"
    }
   ],
   "source": [
    "df_labeled = pd.read_csv(\"./check_age_gender_regex_labeled.csv\", sep=\";\")\n",
    "print(df_labeled.Correct.sum() / len(df_labeled) * 100)\n",
    "df_labeled.head(1)"
   ]
  },
  {
   "cell_type": "code",
   "execution_count": 36,
   "metadata": {},
   "outputs": [
    {
     "name": "stdout",
     "output_type": "stream",
     "text": [
      "91.0\n"
     ]
    },
    {
     "data": {
      "text/html": [
       "<div>\n",
       "<style scoped>\n",
       "    .dataframe tbody tr th:only-of-type {\n",
       "        vertical-align: middle;\n",
       "    }\n",
       "\n",
       "    .dataframe tbody tr th {\n",
       "        vertical-align: top;\n",
       "    }\n",
       "\n",
       "    .dataframe thead th {\n",
       "        text-align: right;\n",
       "    }\n",
       "</style>\n",
       "<table border=\"1\" class=\"dataframe\">\n",
       "  <thead>\n",
       "    <tr style=\"text-align: right;\">\n",
       "      <th></th>\n",
       "      <th>text</th>\n",
       "      <th>age</th>\n",
       "      <th>gender</th>\n",
       "      <th>Correct</th>\n",
       "    </tr>\n",
       "  </thead>\n",
       "  <tbody>\n",
       "    <tr>\n",
       "      <th>0</th>\n",
       "      <td>I'll call the person I'm interested in Jane [1...</td>\n",
       "      <td>-1</td>\n",
       "      <td>M</td>\n",
       "      <td>True</td>\n",
       "    </tr>\n",
       "  </tbody>\n",
       "</table>\n",
       "</div>"
      ],
      "text/plain": [
       "                                                text  age gender  Correct\n",
       "0  I'll call the person I'm interested in Jane [1...   -1      M     True"
      ]
     },
     "execution_count": 36,
     "metadata": {},
     "output_type": "execute_result"
    }
   ],
   "source": [
    "df_labeled = pd.read_csv(\"./check_age_gender_phi3_labeled.csv\", sep=\";\")\n",
    "print(df_labeled.Correct.sum() / len(df_labeled) * 100)\n",
    "df_labeled.head(1)"
   ]
  }
 ],
 "metadata": {
  "kernelspec": {
   "display_name": "base",
   "language": "python",
   "name": "python3"
  },
  "language_info": {
   "codemirror_mode": {
    "name": "ipython",
    "version": 3
   },
   "file_extension": ".py",
   "mimetype": "text/x-python",
   "name": "python",
   "nbconvert_exporter": "python",
   "pygments_lexer": "ipython3",
   "version": "3.12.4"
  }
 },
 "nbformat": 4,
 "nbformat_minor": 2
}
